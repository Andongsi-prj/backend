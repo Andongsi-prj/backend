{
 "cells": [
  {
   "cell_type": "markdown",
   "metadata": {},
   "source": [
    "# 라이브러리 설치"
   ]
  },
  {
   "cell_type": "code",
   "execution_count": null,
   "metadata": {},
   "outputs": [],
   "source": [
    "pip install fastapi uvicorn ultralytics opencv-python-headless numpy python-multipart streamlit"
   ]
  },
  {
   "cell_type": "markdown",
   "metadata": {},
   "source": [
    "# FastAPI application 만들기"
   ]
  },
  {
   "cell_type": "code",
   "execution_count": 3,
   "metadata": {},
   "outputs": [],
   "source": [
    "from fastapi import FastAPI, File, UploadFile\n",
    "import cv2\n",
    "import numpy as np\n",
    "from ultralytics import YOLO\n",
    "\n",
    "# Initialize FastAPI app\n",
    "app = FastAPI()\n",
    "\n",
    "# Load YOLOv8 model\n",
    "model = YOLO(\"C:/Users/gh159/runs/detect/yolov8_custom8/weights/best.pt\")\n",
    "\n",
    "@app.post(\"/predict/\")\n",
    "async def predict(file: UploadFile = File(...)):\n",
    "    # Read uploaded image\n",
    "    image_bytes = await file.read()\n",
    "    image = np.frombuffer(image_bytes, dtype=np.uint8)\n",
    "    image = cv2.imdecode(image, cv2.IMREAD_COLOR)\n",
    "\n",
    "    # Perform object detection\n",
    "    results = model.predict(image)\n",
    "\n",
    "    # Process detection results\n",
    "    detections = []\n",
    "    for result in results[0].boxes:\n",
    "        x1, y1, x2, y2 = result.xyxy.tolist()\n",
    "        confidence = result.conf.tolist()\n",
    "        class_id = result.cls.tolist()\n",
    "        detections.append({\n",
    "            \"x1\": x1,\n",
    "            \"y1\": y1,\n",
    "            \"x2\": x2,\n",
    "            \"y2\": y2,\n",
    "            \"confidence\": confidence,\n",
    "            \"class_id\": class_id,\n",
    "        })\n",
    "\n",
    "    return {\"detections\": detections}\n"
   ]
  },
  {
   "cell_type": "code",
   "execution_count": 2,
   "metadata": {},
   "outputs": [
    {
     "name": "stdout",
     "output_type": "stream",
     "text": [
      "Predictions: [{'label': 'Defective', 'confidence': 96.24550342559814, 'bbox': [498, 808, 3337, 2162]}]\n"
     ]
    }
   ],
   "source": [
    "import requests\n",
    "import base64\n",
    "\n",
    "# 테스트 이미지 로드 및 base64 인코딩\n",
    "with open(\"testnormal.jpg\", \"rb\") as image_file:\n",
    "    encoded_string = base64.b64encode(image_file.read()).decode(\"utf-8\")\n",
    "\n",
    "# API 요청 보내기\n",
    "url = \"http://127.0.0.1:8000/predict/\"\n",
    "data = {\"image_base64\": encoded_string}\n",
    "response = requests.post(url, json=data)\n",
    "\n",
    "# 결과 출력\n",
    "if response.status_code == 200:\n",
    "    result = response.json()\n",
    "    print(\"Predictions:\", result[\"predictions\"])\n",
    "else:\n",
    "    print(\"Error:\", response.text)\n"
   ]
  },
  {
   "cell_type": "code",
   "execution_count": null,
   "metadata": {},
   "outputs": [],
   "source": [
    "import streamlit as st\n",
    "import requests\n",
    "import base64\n",
    "from PIL import Image\n",
    "from io import BytesIO\n",
    "\n",
    "# FastAPI 서버 URL 설정\n",
    "FASTAPI_URL = \"http://127.0.0.1:8000/predict/\"\n",
    "\n",
    "# Streamlit 앱 시작\n",
    "st.title(\"YOLOv8 객체 탐지\")\n",
    "st.write(\"이미지를 업로드하면 객체 탐지 결과를 확인할 수 있습니다.\")\n",
    "\n",
    "# 이미지 업로드 위젯\n",
    "uploaded_file = st.file_uploader(\"이미지를 업로드하세요\", type=[\"jpg\", \"jpeg\", \"png\"])\n",
    "\n",
    "if uploaded_file is not None:\n",
    "    # 업로드된 파일을 FastAPI로 전송\n",
    "    with st.spinner(\"FastAPI로 이미지 전송 중...\"):\n",
    "        files = {\"file\": uploaded_file.getvalue()}\n",
    "        response = requests.post(FASTAPI_URL, files=files)\n",
    "\n",
    "    if response.status_code == 200:\n",
    "        # FastAPI에서 반환된 base64 이미지를 디코딩하여 표시\n",
    "        result = response.json()\n",
    "        annotated_image_base64 = result[\"annotated_image\"]\n",
    "        \n",
    "        # base64 이미지를 PIL 이미지로 변환하여 Streamlit에 표시\n",
    "        annotated_image_bytes = base64.b64decode(annotated_image_base64)\n",
    "        annotated_image = Image.open(BytesIO(annotated_image_bytes))\n",
    "        \n",
    "        st.image(annotated_image, caption=\"탐지 결과\", use_column_width=True)\n",
    "    else:\n",
    "        st.error(f\"FastAPI 오류: {response.status_code}, {response.text}\")\n"
   ]
  },
  {
   "cell_type": "code",
   "execution_count": null,
   "metadata": {},
   "outputs": [],
   "source": []
  },
  {
   "cell_type": "code",
   "execution_count": null,
   "metadata": {},
   "outputs": [],
   "source": []
  }
 ],
 "metadata": {
  "kernelspec": {
   "display_name": "Python 3",
   "language": "python",
   "name": "python3"
  },
  "language_info": {
   "codemirror_mode": {
    "name": "ipython",
    "version": 3
   },
   "file_extension": ".py",
   "mimetype": "text/x-python",
   "name": "python",
   "nbconvert_exporter": "python",
   "pygments_lexer": "ipython3",
   "version": "3.8.10"
  }
 },
 "nbformat": 4,
 "nbformat_minor": 2
}
